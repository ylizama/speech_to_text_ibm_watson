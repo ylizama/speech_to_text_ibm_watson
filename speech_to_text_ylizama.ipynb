{
 "cells": [
  {
   "cell_type": "markdown",
   "metadata": {},
   "source": [
    "## 0. Installing ibm_watson on your virtual environment"
   ]
  },
  {
   "cell_type": "code",
   "execution_count": 2,
   "metadata": {},
   "outputs": [],
   "source": [
    "#UNCOMMENT THE LINE ACCORDING TO YOUR PYTHON DEVELOPMENT CONFIGURATION ENVIRONMENT. \n",
    "\n",
    "#default option to install ibm_watson if you are running jupyter over your virtualenv with no other interfaces. \n",
    "#!pip install ibm_watson\n",
    "\n",
    "#if you use anaconda\n",
    "#!conda install -c conda-forge ibm-watson"
   ]
  },
  {
   "cell_type": "markdown",
   "metadata": {},
   "source": [
    "## 1. Imports"
   ]
  },
  {
   "cell_type": "code",
   "execution_count": 3,
   "metadata": {},
   "outputs": [],
   "source": [
    "from ibm_watson import SpeechToTextV1\n",
    "from ibm_watson.websocket import RecognizeCallback, AudioSource \n",
    "from ibm_cloud_sdk_core.authenticators import IAMAuthenticator\n",
    "\n",
    "import os\n",
    "import json"
   ]
  },
  {
   "cell_type": "markdown",
   "metadata": {},
   "source": [
    "## 2. Setup STT Service"
   ]
  },
  {
   "cell_type": "code",
   "execution_count": 3,
   "metadata": {},
   "outputs": [],
   "source": [
    "#set your API KEY and URL. You can get access to these values in the section Manage in Speech to Text API. \n",
    "apikey = 'YOUR API KEY'\n",
    "url = 'YOUR URL'"
   ]
  },
  {
   "cell_type": "code",
   "execution_count": 4,
   "metadata": {},
   "outputs": [],
   "source": [
    "authenticator = IAMAuthenticator(apikey)\n",
    "stt = SpeechToTextV1(authenticator=authenticator)\n",
    "stt.set_service_url(url)"
   ]
  },
  {
   "cell_type": "markdown",
   "metadata": {},
   "source": [
    "## 3. Functions and Data Structures "
   ]
  },
  {
   "cell_type": "code",
   "execution_count": 45,
   "metadata": {},
   "outputs": [],
   "source": [
    "FOLDER_DATA_PATH = 'your_folder/'       #replace by the folder where you have your audio files. \n",
    "\n",
    "C_TYPE = 'audio/mp3'                    #replace by the content type. \n",
    "\n",
    "FORMAT = '.mp3'                         #put the extension of your audio files. \n",
    "\n",
    "MODEL_LANGUAGE = 'es-CO_BroadbandModel' # Replace the model. \n",
    "                                        # 'es-CO_BroadbandModel' is for Spanish - Colombian. \n",
    "                                        # en-US_BroadbandModel is for English US. \n",
    "                                        # To see available models, check http://shorturl.at/mxNSU"
   ]
  },
  {
   "cell_type": "code",
   "execution_count": 46,
   "metadata": {},
   "outputs": [],
   "source": [
    "def extract_transcript(results):\n",
    "    text = \"\"\n",
    "    confidence = 0\n",
    "    for r in results:\n",
    "        text += r['alternatives'][0]['transcript']\n",
    "        confidence += r['alternatives'][0]['confidence']\n",
    "    if len(results) > 0:\n",
    "        confidence = confidence/len(results)     \n",
    "    return text, confidence"
   ]
  },
  {
   "cell_type": "code",
   "execution_count": 47,
   "metadata": {},
   "outputs": [],
   "source": [
    "def extract_transcripts_from_folder(folder_path, c_type, model_language):\n",
    "    i = 0\n",
    "    print(\"Files in process in\", folder_path)\n",
    "    for filename in os.listdir(folder_path):\n",
    "        if filename.endswith(FORMAT):\n",
    "            with open(os.path.join(folder_path, filename), 'rb') as f:\n",
    "                res = stt.recognize(audio=f, content_type=c_type, model=model_language, continuous=True).get_result()\n",
    "                text, confidence = extract_transcript(res['results'])\n",
    "                \n",
    "                video_dict = {\"filename\": filename, \"transcript\" : text,\"confidence\": confidence}\n",
    "                \n",
    "                data_transcripts.append(video_dict)\n",
    "                i+=1\n",
    "                print(i,\" - \", filename)\n",
    "                \n",
    "    #number of videos processed\n",
    "    print('Number of files processed in',folder_path, len(data_transcripts))"
   ]
  },
  {
   "cell_type": "code",
   "execution_count": 48,
   "metadata": {},
   "outputs": [],
   "source": [
    "def save_json_file(data_dict, out_file):\n",
    "    with open(out_file, 'w') as fp:\n",
    "         fp.write( '[' + ',\\n'.join(json.dumps(i) for i in data_dict) + ']\\n')"
   ]
  },
  {
   "cell_type": "markdown",
   "metadata": {},
   "source": [
    "## 4. Convert and Save"
   ]
  },
  {
   "cell_type": "code",
   "execution_count": 49,
   "metadata": {},
   "outputs": [
    {
     "name": "stdout",
     "output_type": "stream",
     "text": [
      "Files in process in data/5/\n",
      "1  -  Respuesta Marco Chaparro - Fil¢sofo (Audio).mp4.wav\n",
      "2  -  Respuesta Milton Rojas - Crucero (Audio).mp4.wav\n",
      "3  -  Respuesta Natalia Jaramillo - Gardel.mp4.wav\n",
      "4  -  Respuesta Nelson Gonz†lez - Arquitecto.mp4.wav\n",
      "5  -  Respuesta Nicolalyey Su†rez - Generar empleo (Audio).mp4.wav\n",
      "6  -  Respuesta Nicol†s Osorio - Maestr°a (Audio).mp4.wav\n",
      "7  -  Respuesta Octavio AndrÇs - Matrimonio (Audio).mp4.wav\n",
      "8  -  Respuesta Orlando Tovar - Moto.mp4.wav\n",
      "9  -  Respuesta Pao Zoo - Europa (Audio).mp4.wav\n",
      "10  -  Respuesta Paula Gallego   Casa.mp4.wav\n",
      "11  -  Respuesta Paula JimÇnez - Mundial Brasil.mp4.wav\n",
      "12  -  Respuesta Paula Valbuena   Rock.mp4.wav\n",
      "13  -  Respuesta Rafael Ricardo Morelo - Agencia Propia (Audio).mp4.wav\n",
      "14  -  Respuesta Saimon Cadavid - Centro de la tierra.mp4.wav\n",
      "15  -  Respuesta Santiago VÇlez - Aplausos.mp4.wav\n",
      "16  -  Respuesta Sara G¢mez - La India.mp4.wav\n",
      "17  -  Respuesta Sa£l Suaza   Machu Pichu.mp4.wav\n",
      "18  -  Respuesta Sebasti†n Henao - Carro tricolor.mp4.wav\n",
      "Number of files processed in data/5/ 18\n"
     ]
    }
   ],
   "source": [
    "data_transcripts = []\n",
    "transcripts_out_json_file = FOLDER_DATA_PATH + '_data_transcripst.json'\n",
    "extract_transcripts_from_folder(FOLDER_DATA_PATH, C_TYPE, MODEL_LANGUAGE)\n",
    "save_json_file(data_transcripts, transcripts_out_json_file)"
   ]
  },
  {
   "cell_type": "code",
   "execution_count": 50,
   "metadata": {},
   "outputs": [
    {
     "data": {
      "text/plain": [
       "18"
      ]
     },
     "execution_count": 50,
     "metadata": {},
     "output_type": "execute_result"
    }
   ],
   "source": [
    "len(data_transcripts)"
   ]
  },
  {
   "cell_type": "code",
   "execution_count": null,
   "metadata": {},
   "outputs": [],
   "source": []
  }
 ],
 "metadata": {
  "kernelspec": {
   "display_name": "Python 3",
   "language": "python",
   "name": "python3"
  },
  "language_info": {
   "codemirror_mode": {
    "name": "ipython",
    "version": 3
   },
   "file_extension": ".py",
   "mimetype": "text/x-python",
   "name": "python",
   "nbconvert_exporter": "python",
   "pygments_lexer": "ipython3",
   "version": "3.8.8"
  }
 },
 "nbformat": 4,
 "nbformat_minor": 2
}
